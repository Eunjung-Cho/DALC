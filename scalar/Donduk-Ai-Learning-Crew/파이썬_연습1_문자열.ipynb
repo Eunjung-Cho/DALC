{
  "nbformat": 4,
  "nbformat_minor": 0,
  "metadata": {
    "colab": {
      "name": "파이썬 연습1_문자열",
      "provenance": [],
      "collapsed_sections": [],
      "authorship_tag": "ABX9TyMtJsveGOrtMvWHze5dIaRu",
      "include_colab_link": true
    },
    "kernelspec": {
      "name": "python3",
      "display_name": "Python 3"
    }
  },
  "cells": [
    {
      "cell_type": "markdown",
      "metadata": {
        "id": "view-in-github",
        "colab_type": "text"
      },
      "source": [
        "<a href=\"https://colab.research.google.com/github/Eunjung-Cho/Donduk-Ai-Learning-Crew/blob/main/%ED%8C%8C%EC%9D%B4%EC%8D%AC_%EC%97%B0%EC%8A%B51_%EB%AC%B8%EC%9E%90%EC%97%B4.ipynb\" target=\"_parent\"><img src=\"https://colab.research.google.com/assets/colab-badge.svg\" alt=\"Open In Colab\"/></a>"
      ]
    },
    {
      "cell_type": "markdown",
      "metadata": {
        "id": "HiMAeHQEjFkb"
      },
      "source": [
        "단어 자음,모음 판별하기\r\n",
        "\r\n",
        "\r\n",
        "참고 책: \r\n",
        "\r\n",
        "점프 투 파이썬: https://wikidocs.net/4308\r\n",
        "초보자를 위한 파이썬 300제: https://wikidocs.net/7044"
      ]
    },
    {
      "cell_type": "markdown",
      "metadata": {
        "id": "0Y-ZRuoj3jvM"
      },
      "source": [
        "# print 문 - 출력하기\r\n"
      ]
    },
    {
      "cell_type": "code",
      "metadata": {
        "id": "WAMkpIIIjfLQ"
      },
      "source": [
        "## print 문 - 출력하기\r\n",
        "## 변수선언하기\r\n",
        "## 문자열 다루기 - 인덱싱, 슬라이싱, 여러가지 메서드\r\n",
        "## 리스트\r\n",
        "## 튜플\r\n",
        "## 딕셔너리 \r\n",
        "## 파이썬 반복문\r\n",
        "## 파이썬 함수\r\n",
        "## 파이썬 모듈\r\n",
        "## 파이썬 클래스\r\n",
        "## 파이썬 예외처리\r\n",
        "## 파이썬 내장 함수\r\n",
        "## 파이썬 라이브러리\r\n",
        "## 파이썬 정규 표현식"
      ],
      "execution_count": null,
      "outputs": []
    },
    {
      "cell_type": "code",
      "metadata": {
        "colab": {
          "base_uri": "https://localhost:8080/"
        },
        "id": "9YJWmTFoi-pM",
        "outputId": "b05fd588-97ab-49e4-a399-42a5a7c9187a"
      },
      "source": [
        "n = str(input(\"typing the word: \"))\r\n",
        "word= n.lower()\r\n",
        "v=0\r\n",
        "c=0\r\n",
        "print(f'word : {n}')\r\n",
        "\r\n",
        "if len(n)>0:\r\n",
        "  for char in word:\r\n",
        "    if char.isalpha():\r\n",
        "      if char in 'aeiouAEIOU':\r\n",
        "        v+=1\r\n",
        "      else:\r\n",
        "        c+=1\r\n",
        "  print(f'consonant:{c}, vowel:{v}')\r\n"
      ],
      "execution_count": null,
      "outputs": [
        {
          "output_type": "stream",
          "text": [
            "typing the word: eunjung\n",
            "word : eunjung\n",
            "consonant:4, vowel:3\n"
          ],
          "name": "stdout"
        }
      ]
    },
    {
      "cell_type": "code",
      "metadata": {
        "id": "L0_K9B19jd-5"
      },
      "source": [
        ""
      ],
      "execution_count": null,
      "outputs": []
    },
    {
      "cell_type": "code",
      "metadata": {
        "id": "wLqBhyaujerE"
      },
      "source": [
        ""
      ],
      "execution_count": null,
      "outputs": []
    }
  ]
}