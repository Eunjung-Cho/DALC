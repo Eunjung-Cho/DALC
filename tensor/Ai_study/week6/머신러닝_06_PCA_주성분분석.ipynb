{
  "nbformat": 4,
  "nbformat_minor": 0,
  "metadata": {
    "colab": {
      "name": "머신러닝 06 - PCA 주성분분석.ipynb",
      "provenance": [],
      "collapsed_sections": [],
      "include_colab_link": true
    },
    "kernelspec": {
      "display_name": "Python 3",
      "language": "python",
      "name": "python3"
    },
    "language_info": {
      "codemirror_mode": {
        "name": "ipython",
        "version": 3
      },
      "file_extension": ".py",
      "mimetype": "text/x-python",
      "name": "python",
      "nbconvert_exporter": "python",
      "pygments_lexer": "ipython3",
      "version": "3.7.4"
    }
  },
  "cells": [
    {
      "cell_type": "markdown",
      "metadata": {
        "id": "view-in-github",
        "colab_type": "text"
      },
      "source": [
        "<a href=\"https://colab.research.google.com/github/Eunjung-Cho/Ai_study/blob/main/week6/%EB%A8%B8%EC%8B%A0%EB%9F%AC%EB%8B%9D_06_PCA_%EC%A3%BC%EC%84%B1%EB%B6%84%EB%B6%84%EC%84%9D.ipynb\" target=\"_parent\"><img src=\"https://colab.research.google.com/assets/colab-badge.svg\" alt=\"Open In Colab\"/></a>"
      ]
    },
    {
      "cell_type": "markdown",
      "metadata": {
        "id": "ABtW6xxtu3Bm"
      },
      "source": [
        "# 머신러닝 - PCA 주성분분석\n",
        "\n",
        "<img width=\"20%\" src=\"https://i.imgur.com/wjKqltP.png\" >\n",
        "   \n",
        "\n",
        "**2019-2021 FinanceData.KR http://facebook.com/financedata**"
      ]
    },
    {
      "cell_type": "markdown",
      "metadata": {
        "id": "OGqVRLXJu3Bo"
      },
      "source": [
        "# 차원의 저주(Curse of dimensionality)\n",
        "* 데이터의 양과 차원은 아주 밀접한 관련\n",
        "* 차원이 증가하면 데이터를 표현하기 위한 데이터 양이 기하급수적으로 증가\n",
        "\n",
        "<img src=\"https://i.imgur.com/BzEa6PR.png\" >\n",
        "데이터가 차원의 증가에 따라 얼마나 많이 필요한지에 대한 표현\n",
        "\n",
        "https://eranraviv.com/curse-of-dimensionality/"
      ]
    },
    {
      "cell_type": "markdown",
      "metadata": {
        "id": "l7hy86Z-u3Bp"
      },
      "source": [
        "    \n",
        "<img src=\"https://i.imgur.com/AZq1Ymg.png\" >\n",
        "\n",
        "일정 차원을 넘으면 분류기의 성능은 점점 떨어져 0으로 수렴\n"
      ]
    },
    {
      "cell_type": "markdown",
      "metadata": {
        "id": "s9ufyUdhu3Bq"
      },
      "source": [
        "# 차원 축소 Dimensionality Reduction\n",
        "* 데이터의 의미를 잘 표현하는 feature를 추출\n",
        "* 더 적은 수의 feature로 데이터를 표현\n",
        "\n",
        "<img width=\"50%\" src=\"https://i.imgur.com/e2k1Xez.png\" > wikipedia.org\n",
        "\n",
        "* x, y 축보다 화살표 축이 데이터를 더 잘 표현(주성분)\n",
        "* 주성분=분산이 가장 큰 방향 벡터\n"
      ]
    },
    {
      "cell_type": "markdown",
      "metadata": {
        "id": "IOAPJo3Cu3Bq"
      },
      "source": [
        "# 차원 축소의 필요\n",
        "* 계산 비용, 불필요한 변수\n",
        "* 노이즈 제거\n",
        "* 시각화(결과를 쉽게 이해)"
      ]
    },
    {
      "cell_type": "markdown",
      "metadata": {
        "id": "SlVbtXY5a8Ev"
      },
      "source": [
        "# 변수 선택과 추출 (장점/단점)\n",
        "비교 | 변수 선택(selection) | 변수 추출(extraction)\n",
        "--- | ----- | ----------\n",
        "방법 | 목적에 부합하는 예측 변수를 선택 | 예측 변수를 변환하여 새로운 변수 생성\n",
        "장점 | 선택한 변수 해석 용이  | 변수간 상관관계 고려, 변수의 개수 대폭 축소\n",
        "단점 | 변수간 상관관계 무시 | 추출된 변수 해석이 어려움"
      ]
    },
    {
      "cell_type": "markdown",
      "metadata": {
        "id": "aCC9hCVla8Ew"
      },
      "source": [
        "# 변수 선택과 추출 (Supervised / Unsupervised)\n",
        "\n",
        "알고리즘 | 변수 선택(selection) | 변수 추출(extraction)\n",
        "--- | ----- | ----------\n",
        "Supervised | Information gain,<br>LASSO | PLS (partial least squares)\n",
        "Unsupervised | PCA loading | PCA, <br>AutoEncoder"
      ]
    },
    {
      "cell_type": "markdown",
      "metadata": {
        "id": "U1JY0U3ju3Br"
      },
      "source": [
        "# 주요 차원 축소 알고리즘\n",
        "\n",
        "* PCA (Principal component analysis)\n",
        "* SVD (Singular-value decomposition)\n",
        "* NMF (Non-negative Matrix Factorization)"
      ]
    },
    {
      "cell_type": "markdown",
      "metadata": {
        "id": "aZgKczU_u3Bs"
      },
      "source": [
        "# PCA 개요\n",
        "고차원의 데이터를 저차원의 데이터로 환원시키는 기법 \n",
        "\n",
        "* p개의 변수를 상관관계가 없는 k개의 변수로 요약 (k << p)\n",
        "* 요약된 변수는 기존 변수의 선형조합으로 생성, n개의 관측치의 개수를 그대로\n",
        "* 원래 데이터의 분산을 최대한 보존하는 축을 찾고, 그 축에 project\n",
        "* 활용: 차원축소, 시각화, 군집화, 압축 등"
      ]
    },
    {
      "cell_type": "markdown",
      "metadata": {
        "id": "wpvIerESa8Ey"
      },
      "source": [
        "# PCA 과정\n",
        "1. 데이터 집합에 대해 공분산 행렬 구하기\n",
        "1. 공분산 행렬에서 고유값과 고유벡터 구하기\n",
        "1. 고유값 목록에서 값이 큰 k개 인덱스 구하기 "
      ]
    },
    {
      "cell_type": "markdown",
      "metadata": {
        "id": "IXSr8-3Ta8Ez"
      },
      "source": [
        "https://youtu.be/FhQm2Tc8Kic?t=3067\n",
        "\n",
        "동영상 좀 더 상세히\n",
        "    \n",
        "# PCA 알고리즘 요약\n",
        "1. 데이터 졍규화\n",
        "1. 기존 변수의 covriance matrix 계산\n",
        "1. covriance matrix로 부터 eigenvalue, eigenvector 계산\n",
        "1. eigenvalue와 eigenvector 순서대로 나열\n",
        "1. 정렬된 eigenvector를 기반으로 기본 변순 변환"
      ]
    },
    {
      "cell_type": "markdown",
      "metadata": {
        "id": "ZSfGNu61u3Bt"
      },
      "source": [
        "# 고유 벡터(eigenvector)\n",
        "\n",
        "벡터 T에 대해,\n",
        "$$ Tv=\\lambda v $$\n",
        "\n",
        "를 만족시키면, v를 T의 고유 벡터라고 하고, $\\lambda$ 를 T (v에 대응하는) 고윳값이라고 한다."
      ]
    },
    {
      "cell_type": "code",
      "metadata": {
        "id": "1wh5MPRUu3Bu"
      },
      "source": [
        "%matplotlib inline\n",
        "\n",
        "import matplotlib.pyplot as plt\n",
        "import seaborn as sns\n",
        "\n",
        "sns.set_palette(\"Set1\", 8, .75)\n",
        "# palplot(sns.color_palette(\"hls\", 8))"
      ],
      "execution_count": null,
      "outputs": []
    },
    {
      "cell_type": "code",
      "metadata": {
        "id": "BzJTzq6Lu3By",
        "colab": {
          "base_uri": "https://localhost:8080/",
          "height": 358
        },
        "outputId": "0668496f-03fb-4eca-bde4-4424ff92f711"
      },
      "source": [
        "import pandas as pd\n",
        "\n",
        "data = [\n",
        "    [1200, 1, 0, 0, 2, 'bad'],\n",
        "    [2800, 1, 1, 1, 1, 'normal'],\n",
        "    [3500, 2, 2, 1, 0, 'good'],\n",
        "    [1400, 0, 1, 0, 3, 'bad'],\n",
        "    [5000, 2, 2, 2, 0, 'good'],\n",
        "    [1300, 0, 0, 1, 2, 'bad'],\n",
        "    [3000, 1, 0, 1, 1, 'normal'],\n",
        "    [4000, 2, 2, 2, 0, 'good'],\n",
        "    [2600, 0, 2, 0, 0, 'normal'],\n",
        "    [3000, 1, 2, 1, 1, 'good'],\n",
        "]\n",
        "\n",
        "df = pd.DataFrame(data, columns=['A1', 'F1', 'F2', 'F3', 'F4', 'perf'])\n",
        "df"
      ],
      "execution_count": null,
      "outputs": [
        {
          "output_type": "execute_result",
          "data": {
            "text/html": [
              "<div>\n",
              "<style scoped>\n",
              "    .dataframe tbody tr th:only-of-type {\n",
              "        vertical-align: middle;\n",
              "    }\n",
              "\n",
              "    .dataframe tbody tr th {\n",
              "        vertical-align: top;\n",
              "    }\n",
              "\n",
              "    .dataframe thead th {\n",
              "        text-align: right;\n",
              "    }\n",
              "</style>\n",
              "<table border=\"1\" class=\"dataframe\">\n",
              "  <thead>\n",
              "    <tr style=\"text-align: right;\">\n",
              "      <th></th>\n",
              "      <th>A1</th>\n",
              "      <th>F1</th>\n",
              "      <th>F2</th>\n",
              "      <th>F3</th>\n",
              "      <th>F4</th>\n",
              "      <th>perf</th>\n",
              "    </tr>\n",
              "  </thead>\n",
              "  <tbody>\n",
              "    <tr>\n",
              "      <th>0</th>\n",
              "      <td>1200</td>\n",
              "      <td>1</td>\n",
              "      <td>0</td>\n",
              "      <td>0</td>\n",
              "      <td>2</td>\n",
              "      <td>bad</td>\n",
              "    </tr>\n",
              "    <tr>\n",
              "      <th>1</th>\n",
              "      <td>2800</td>\n",
              "      <td>1</td>\n",
              "      <td>1</td>\n",
              "      <td>1</td>\n",
              "      <td>1</td>\n",
              "      <td>normal</td>\n",
              "    </tr>\n",
              "    <tr>\n",
              "      <th>2</th>\n",
              "      <td>3500</td>\n",
              "      <td>2</td>\n",
              "      <td>2</td>\n",
              "      <td>1</td>\n",
              "      <td>0</td>\n",
              "      <td>good</td>\n",
              "    </tr>\n",
              "    <tr>\n",
              "      <th>3</th>\n",
              "      <td>1400</td>\n",
              "      <td>0</td>\n",
              "      <td>1</td>\n",
              "      <td>0</td>\n",
              "      <td>3</td>\n",
              "      <td>bad</td>\n",
              "    </tr>\n",
              "    <tr>\n",
              "      <th>4</th>\n",
              "      <td>5000</td>\n",
              "      <td>2</td>\n",
              "      <td>2</td>\n",
              "      <td>2</td>\n",
              "      <td>0</td>\n",
              "      <td>good</td>\n",
              "    </tr>\n",
              "    <tr>\n",
              "      <th>5</th>\n",
              "      <td>1300</td>\n",
              "      <td>0</td>\n",
              "      <td>0</td>\n",
              "      <td>1</td>\n",
              "      <td>2</td>\n",
              "      <td>bad</td>\n",
              "    </tr>\n",
              "    <tr>\n",
              "      <th>6</th>\n",
              "      <td>3000</td>\n",
              "      <td>1</td>\n",
              "      <td>0</td>\n",
              "      <td>1</td>\n",
              "      <td>1</td>\n",
              "      <td>normal</td>\n",
              "    </tr>\n",
              "    <tr>\n",
              "      <th>7</th>\n",
              "      <td>4000</td>\n",
              "      <td>2</td>\n",
              "      <td>2</td>\n",
              "      <td>2</td>\n",
              "      <td>0</td>\n",
              "      <td>good</td>\n",
              "    </tr>\n",
              "    <tr>\n",
              "      <th>8</th>\n",
              "      <td>2600</td>\n",
              "      <td>0</td>\n",
              "      <td>2</td>\n",
              "      <td>0</td>\n",
              "      <td>0</td>\n",
              "      <td>normal</td>\n",
              "    </tr>\n",
              "    <tr>\n",
              "      <th>9</th>\n",
              "      <td>3000</td>\n",
              "      <td>1</td>\n",
              "      <td>2</td>\n",
              "      <td>1</td>\n",
              "      <td>1</td>\n",
              "      <td>good</td>\n",
              "    </tr>\n",
              "  </tbody>\n",
              "</table>\n",
              "</div>"
            ],
            "text/plain": [
              "     A1  F1  F2  F3  F4    perf\n",
              "0  1200   1   0   0   2     bad\n",
              "1  2800   1   1   1   1  normal\n",
              "2  3500   2   2   1   0    good\n",
              "3  1400   0   1   0   3     bad\n",
              "4  5000   2   2   2   0    good\n",
              "5  1300   0   0   1   2     bad\n",
              "6  3000   1   0   1   1  normal\n",
              "7  4000   2   2   2   0    good\n",
              "8  2600   0   2   0   0  normal\n",
              "9  3000   1   2   1   1    good"
            ]
          },
          "metadata": {
            "tags": []
          },
          "execution_count": 2
        }
      ]
    },
    {
      "cell_type": "code",
      "metadata": {
        "id": "sJmefAGXu3B3"
      },
      "source": [
        "X = df[['A1', 'F1', 'F2', 'F3', 'F4']]\n",
        "Y = df[['perf']]"
      ],
      "execution_count": null,
      "outputs": []
    },
    {
      "cell_type": "code",
      "metadata": {
        "id": "uqEVZhZGu3B5"
      },
      "source": [
        "from sklearn.preprocessing import StandardScaler\n",
        "\n",
        "x = StandardScaler().fit_transform(X.astype(float))"
      ],
      "execution_count": null,
      "outputs": []
    },
    {
      "cell_type": "code",
      "metadata": {
        "id": "k8kFM4g-u3B8",
        "colab": {
          "base_uri": "https://localhost:8080/"
        },
        "outputId": "3f906d0d-8af2-4675-a704-e677292a62ec"
      },
      "source": [
        "# feature들의 Covariance Matrix 만들기\n",
        "import numpy as np\n",
        "\n",
        "features = x.T\n",
        "cov_mat = np.cov(features)\n",
        "cov_mat"
      ],
      "execution_count": null,
      "outputs": [
        {
          "output_type": "execute_result",
          "data": {
            "text/plain": [
              "array([[ 1.11111111,  0.88379717,  0.76782385,  0.89376551, -0.93179808],\n",
              "       [ 0.88379717,  1.11111111,  0.49362406,  0.81967902, -0.71721914],\n",
              "       [ 0.76782385,  0.49362406,  1.11111111,  0.40056715, -0.76471911],\n",
              "       [ 0.89376551,  0.81967902,  0.40056715,  1.11111111, -0.63492063],\n",
              "       [-0.93179808, -0.71721914, -0.76471911, -0.63492063,  1.11111111]])"
            ]
          },
          "metadata": {
            "tags": []
          },
          "execution_count": 5
        }
      ]
    },
    {
      "cell_type": "code",
      "metadata": {
        "id": "ed9F9FGBu3CA"
      },
      "source": [
        "# covariance matrix 이용해 Eigen Value의 최대값인 Eigen Vector (PC) 구하기\n",
        "# feature가 5개, eigen_vector도 5개\n",
        "\n",
        "eig_vals, eig_vecs = np.linalg.eig(cov_mat)"
      ],
      "execution_count": null,
      "outputs": []
    },
    {
      "cell_type": "code",
      "metadata": {
        "id": "VDBTJZcnu3CC",
        "colab": {
          "base_uri": "https://localhost:8080/"
        },
        "outputId": "3db2a3b0-c040-4349-b9ca-584d4d2302d3"
      },
      "source": [
        "eig_vals"
      ],
      "execution_count": null,
      "outputs": [
        {
          "output_type": "execute_result",
          "data": {
            "text/plain": [
              "array([4.0657343 , 0.8387565 , 0.07629538, 0.27758568, 0.2971837 ])"
            ]
          },
          "metadata": {
            "tags": []
          },
          "execution_count": 7
        }
      ]
    },
    {
      "cell_type": "code",
      "metadata": {
        "id": "DlOCYCWyu3CG",
        "colab": {
          "base_uri": "https://localhost:8080/"
        },
        "outputId": "072340fe-c4ff-41a8-ead0-123199ead411"
      },
      "source": [
        "eig_vecs"
      ],
      "execution_count": null,
      "outputs": [
        {
          "output_type": "execute_result",
          "data": {
            "text/plain": [
              "array([[-0.508005  , -0.0169937 , -0.84711404,  0.11637853,  0.10244985],\n",
              "       [-0.44660335, -0.36890361,  0.12808055, -0.63112016, -0.49973822],\n",
              "       [-0.38377913,  0.70804084,  0.20681005, -0.40305226,  0.38232213],\n",
              "       [-0.42845209, -0.53194699,  0.3694462 ,  0.22228235,  0.58954327],\n",
              "       [ 0.46002038, -0.2816592 , -0.29450345, -0.61341895,  0.49601841]])"
            ]
          },
          "metadata": {
            "tags": []
          },
          "execution_count": 8
        }
      ]
    },
    {
      "cell_type": "code",
      "metadata": {
        "id": "m-bEQcGwu3CJ",
        "colab": {
          "base_uri": "https://localhost:8080/"
        },
        "outputId": "a5aaf83f-ff50-4cf5-93b3-666873a68b0a"
      },
      "source": [
        "# 처음 1개만 사용 (5차원 -> 1차원)\n",
        "# 비율값 = 정보의 유지 (70% 유지)\n",
        "\n",
        "eig_vals[0] / sum(eig_vals)"
      ],
      "execution_count": null,
      "outputs": [
        {
          "output_type": "execute_result",
          "data": {
            "text/plain": [
              "0.7318321731427545"
            ]
          },
          "metadata": {
            "tags": []
          },
          "execution_count": 9
        }
      ]
    },
    {
      "cell_type": "code",
      "metadata": {
        "id": "zdCJLYpbu3CM",
        "colab": {
          "base_uri": "https://localhost:8080/"
        },
        "outputId": "3515f821-fca6-4046-85e1-bb81d22def4a"
      },
      "source": [
        "# 각 컬럼 데이터들을 아이겐벡터에 프로젝션\n",
        "proj_X = x.dot(-eig_vecs.T[0])\n",
        "proj_X"
      ],
      "execution_count": null,
      "outputs": [
        {
          "output_type": "execute_result",
          "data": {
            "text/plain": [
              "array([-2.22600943, -0.0181432 ,  1.76296611, -2.73542407,  3.02711544,\n",
              "       -2.14702579, -0.37142473,  2.59239883, -0.39347815,  0.50902498])"
            ]
          },
          "metadata": {
            "tags": []
          },
          "execution_count": 10
        }
      ]
    },
    {
      "cell_type": "code",
      "metadata": {
        "id": "X6KovA84u3CQ",
        "colab": {
          "base_uri": "https://localhost:8080/",
          "height": 240
        },
        "outputId": "4ec6c858-e218-4dc6-99c2-1a3afdf82329"
      },
      "source": [
        "# 5차원 --> 1차원, 시각화\n",
        "result = pd.DataFrame(proj_X , columns=['PC'])\n",
        "result['y-axis'] = 0.0\n",
        "result['label'] = Y\n",
        "\n",
        "sns.lmplot('PC', 'y-axis', data=result, fit_reg=False, hue=\"label\", height=2, aspect=4)"
      ],
      "execution_count": null,
      "outputs": [
        {
          "output_type": "stream",
          "text": [
            "/usr/local/lib/python3.7/dist-packages/seaborn/_decorators.py:43: FutureWarning: Pass the following variables as keyword args: x, y. From version 0.12, the only valid positional argument will be `data`, and passing other arguments without an explicit keyword will result in an error or misinterpretation.\n",
            "  FutureWarning\n"
          ],
          "name": "stderr"
        },
        {
          "output_type": "execute_result",
          "data": {
            "text/plain": [
              "<seaborn.axisgrid.FacetGrid at 0x7fac28c7d590>"
            ]
          },
          "metadata": {
            "tags": []
          },
          "execution_count": 11
        },
        {
          "output_type": "display_data",
          "data": {
            "image/png": "[encoded data removed]",
            "text/plain": [
              "<Figure size 647x144 with 1 Axes>"
            ]
          },
          "metadata": {
            "tags": [],
            "needs_background": "light"
          }
        }
      ]
    },
    {
      "cell_type": "code",
      "metadata": {
        "id": "7Obi_Xi-v6lY",
        "colab": {
          "base_uri": "https://localhost:8080/",
          "height": 456
        },
        "outputId": "c61777fd-75d3-47c8-98b1-0fa493bfab38"
      },
      "source": [
        "# 5차원 --> 2차원, 시각화\n",
        "proj_X = x.dot(-eig_vecs.T[0])\n",
        "proj_Y = x.dot(-eig_vecs.T[1])\n",
        "\n",
        "result = pd.DataFrame({'x': proj_X, 'y': proj_Y} )\n",
        "result['label'] = Y\n",
        "\n",
        "sns.lmplot('x', 'y', data=result, fit_reg=False, hue=\"label\")"
      ],
      "execution_count": null,
      "outputs": [
        {
          "output_type": "stream",
          "text": [
            "/usr/local/lib/python3.7/dist-packages/seaborn/_decorators.py:43: FutureWarning: Pass the following variables as keyword args: x, y. From version 0.12, the only valid positional argument will be `data`, and passing other arguments without an explicit keyword will result in an error or misinterpretation.\n",
            "  FutureWarning\n"
          ],
          "name": "stderr"
        },
        {
          "output_type": "execute_result",
          "data": {
            "text/plain": [
              "<seaborn.axisgrid.FacetGrid at 0x7fac20b31a50>"
            ]
          },
          "metadata": {
            "tags": []
          },
          "execution_count": 12
        },
        {
          "output_type": "display_data",
          "data": {
            "image/png": "[encoded data removed]",
            "text/plain": [
              "<Figure size 431x360 with 1 Axes>"
            ]
          },
          "metadata": {
            "tags": [],
            "needs_background": "light"
          }
        }
      ]
    },
    {
      "cell_type": "markdown",
      "metadata": {
        "id": "5s0a4oAPu3CU"
      },
      "source": [
        "# Scikit-learn PCA"
      ]
    },
    {
      "cell_type": "code",
      "metadata": {
        "id": "zrhygkW5u3CV",
        "colab": {
          "base_uri": "https://localhost:8080/",
          "height": 240
        },
        "outputId": "e94cba77-c7d4-4212-fd8e-bfbbb7d45ed8"
      },
      "source": [
        "from sklearn import decomposition\n",
        "pca = decomposition.PCA(n_components=1)\n",
        "res = pca.fit_transform(x)\n",
        "\n",
        "result = pd.DataFrame(res, columns=['PC'])\n",
        "result['y-axis'] = 0.0\n",
        "result['label'] = Y\n",
        "sns.lmplot('PC', 'y-axis', data=result, fit_reg=False, hue=\"label\", height=2, aspect=4) # color"
      ],
      "execution_count": null,
      "outputs": [
        {
          "output_type": "stream",
          "text": [
            "/usr/local/lib/python3.7/dist-packages/seaborn/_decorators.py:43: FutureWarning: Pass the following variables as keyword args: x, y. From version 0.12, the only valid positional argument will be `data`, and passing other arguments without an explicit keyword will result in an error or misinterpretation.\n",
            "  FutureWarning\n"
          ],
          "name": "stderr"
        },
        {
          "output_type": "execute_result",
          "data": {
            "text/plain": [
              "<seaborn.axisgrid.FacetGrid at 0x7fac20675bd0>"
            ]
          },
          "metadata": {
            "tags": []
          },
          "execution_count": 13
        },
        {
          "output_type": "display_data",
          "data": {
            "image/png": "[encoded data removed]",
            "text/plain": [
              "<Figure size 647x144 with 1 Axes>"
            ]
          },
          "metadata": {
            "tags": [],
            "needs_background": "light"
          }
        }
      ]
    },
    {
      "cell_type": "code",
      "metadata": {
        "id": "nmBdEuz5vL6L",
        "colab": {
          "base_uri": "https://localhost:8080/",
          "height": 456
        },
        "outputId": "a53e8e69-4f40-45e5-9abd-a1e09f53d6af"
      },
      "source": [
        "from sklearn import decomposition\n",
        "pca = decomposition.PCA(n_components=2)\n",
        "res = pca.fit_transform(x)\n",
        "\n",
        "result = pd.DataFrame(res, columns=['pc1', 'pc2'])\n",
        "result['label'] = Y\n",
        "sns.lmplot('pc1', 'pc2', data=result, fit_reg=False, hue=\"label\") # color"
      ],
      "execution_count": null,
      "outputs": [
        {
          "output_type": "stream",
          "text": [
            "/usr/local/lib/python3.7/dist-packages/seaborn/_decorators.py:43: FutureWarning: Pass the following variables as keyword args: x, y. From version 0.12, the only valid positional argument will be `data`, and passing other arguments without an explicit keyword will result in an error or misinterpretation.\n",
            "  FutureWarning\n"
          ],
          "name": "stderr"
        },
        {
          "output_type": "execute_result",
          "data": {
            "text/plain": [
              "<seaborn.axisgrid.FacetGrid at 0x7fac1c3bced0>"
            ]
          },
          "metadata": {
            "tags": []
          },
          "execution_count": 14
        },
        {
          "output_type": "display_data",
          "data": {
            "image/png": "[encoded data removed]",
            "text/plain": [
              "<Figure size 431x360 with 1 Axes>"
            ]
          },
          "metadata": {
            "tags": [],
            "needs_background": "light"
          }
        }
      ]
    },
    {
      "cell_type": "code",
      "metadata": {
        "id": "z47QvVYja8Fb",
        "colab": {
          "base_uri": "https://localhost:8080/",
          "height": 463
        },
        "outputId": "b98a5b0e-2763-44d0-8753-f4a6e89b3491"
      },
      "source": [
        "from sklearn import datasets\n",
        "from mpl_toolkits.mplot3d import Axes3D\n",
        "import matplotlib.pyplot as plt\n",
        "import pandas as pd\n",
        "\n",
        "import seaborn as sns\n",
        "import matplotlib as mpl\n",
        "\n",
        "cmap = mpl.colors.ListedColormap(sns.color_palette(\"husl\"))\n",
        "\n",
        "iris = datasets.load_iris()\n",
        "data = pd.DataFrame(iris.data, columns=['Sepal length','Sepal width','Petal length','Petal width'])\n",
        "\n",
        "fig = plt.figure( figsize=(6,6))\n",
        "ax = Axes3D(fig, rect=[0, 0, .95, 1], elev=48, azim=134)\n",
        "ax.scatter(data['Sepal length'],data['Sepal width'],data['Petal length'],c=iris.target, cmap=cmap)\n",
        "ax.set_xlabel('Sepal lenth')\n",
        "ax.set_ylabel('Sepal width')\n",
        "ax.set_zlabel('Petal length')\n",
        "plt.show()"
      ],
      "execution_count": null,
      "outputs": [
        {
          "output_type": "display_data",
          "data": {
            "image/png": "[encoded data removed]",
            "text/plain": [
              "<Figure size 432x432 with 1 Axes>"
            ]
          },
          "metadata": {
            "tags": [],
            "needs_background": "light"
          }
        }
      ]
    },
    {
      "cell_type": "code",
      "metadata": {
        "id": "G-JMlfzWa8Fd",
        "colab": {
          "base_uri": "https://localhost:8080/"
        },
        "outputId": "b2a89adf-8f17-4955-80a4-5c7165e3de85"
      },
      "source": [
        "list(iris.target_names)"
      ],
      "execution_count": null,
      "outputs": [
        {
          "output_type": "execute_result",
          "data": {
            "text/plain": [
              "['setosa', 'versicolor', 'virginica']"
            ]
          },
          "metadata": {
            "tags": []
          },
          "execution_count": 16
        }
      ]
    },
    {
      "cell_type": "code",
      "metadata": {
        "id": "Sgxrt-YOa8Fg",
        "colab": {
          "base_uri": "https://localhost:8080/",
          "height": 515
        },
        "outputId": "bfdb904e-6978-42eb-8f71-42bcf5dbe031"
      },
      "source": [
        "import numpy as np\n",
        "import matplotlib.pyplot as plt\n",
        "from sklearn import datasets\n",
        "from sklearn.decomposition import PCA\n",
        "import pandas as pd\n",
        "from sklearn.preprocessing import StandardScaler\n",
        "\n",
        "plt.figure(figsize=(12, 8))\n",
        "sns.set_style(\"whitegrid\")\n",
        "sns.set_palette(\"GnBu\", 8, .75)\n",
        "\n",
        "iris = datasets.load_iris()\n",
        "X = iris.data\n",
        "y = iris.target\n",
        "#In general a good idea is to scale the data\n",
        "scaler = StandardScaler()\n",
        "scaler.fit(X)\n",
        "X=scaler.transform(X)    \n",
        "\n",
        "pca = PCA()\n",
        "x_new = pca.fit_transform(X)\n",
        "\n",
        "def myplot(score,coeff,labels=None):\n",
        "    xs = score[:,0]\n",
        "    ys = score[:,1]\n",
        "    n = coeff.shape[0]\n",
        "    scalex = 1.0/(xs.max() - xs.min())\n",
        "    scaley = 1.0/(ys.max() - ys.min())\n",
        "    plt.scatter(xs * scalex,ys * scaley, c=y)\n",
        "    for i in range(n):\n",
        "        plt.arrow(0, 0, coeff[i,0], coeff[i,1],color = 'r',alpha = 0.5)\n",
        "        if labels is None:\n",
        "            plt.text(coeff[i,0]* 1.15, coeff[i,1] * 1.15, \"Var\"+str(i+1), color='b', ha='center', va='center')\n",
        "        else:\n",
        "            plt.text(coeff[i,0]* 1.15, coeff[i,1] * 1.15, labels[i], color = 'b', ha='center', va='center')\n",
        "plt.xlim(-1,1)\n",
        "plt.ylim(-1,1)\n",
        "plt.xlabel(\"PC{}\".format(1))\n",
        "plt.ylabel(\"PC{}\".format(2))\n",
        "plt.grid()\n",
        "\n",
        "#Call the function. Use only the 2 PCs.\n",
        "labels = [\n",
        "    'Sepal Length', # 꽃받침의 길이\n",
        "    'Sepal Width', # 꽃받침의 너비\n",
        "    'Petal Length', # 꽃잎의 길이\n",
        "    'Petal Width', # 꽃잎의 너비\n",
        "]\n",
        "\n",
        "myplot(x_new[:,0:2], np.transpose(pca.components_[0:2, :]), labels=labels)\n",
        "plt.show()"
      ],
      "execution_count": null,
      "outputs": [
        {
          "output_type": "display_data",
          "data": {
            "image/png": "[encoded data removed]",
            "text/plain": [
              "<Figure size 864x576 with 1 Axes>"
            ]
          },
          "metadata": {
            "tags": [],
            "needs_background": "light"
          }
        }
      ]
    },
    {
      "cell_type": "code",
      "metadata": {
        "id": "mjTPCwJ6a8Fl",
        "colab": {
          "base_uri": "https://localhost:8080/"
        },
        "outputId": "078f4435-1515-495c-808a-ee22291bd390"
      },
      "source": [
        "# singular value\n",
        "pca.singular_values_"
      ],
      "execution_count": null,
      "outputs": [
        {
          "output_type": "execute_result",
          "data": {
            "text/plain": [
              "array([20.92306556, 11.7091661 ,  4.69185798,  1.76273239])"
            ]
          },
          "metadata": {
            "tags": []
          },
          "execution_count": 18
        }
      ]
    },
    {
      "cell_type": "code",
      "metadata": {
        "id": "ezicE2lla8Fn",
        "colab": {
          "base_uri": "https://localhost:8080/"
        },
        "outputId": "95608aca-bd0c-482c-e6e9-97206448274d"
      },
      "source": [
        "# singular vector\n",
        "pca.components_.T"
      ],
      "execution_count": null,
      "outputs": [
        {
          "output_type": "execute_result",
          "data": {
            "text/plain": [
              "array([[ 0.52106591,  0.37741762, -0.71956635, -0.26128628],\n",
              "       [-0.26934744,  0.92329566,  0.24438178,  0.12350962],\n",
              "       [ 0.5804131 ,  0.02449161,  0.14212637,  0.80144925],\n",
              "       [ 0.56485654,  0.06694199,  0.63427274, -0.52359713]])"
            ]
          },
          "metadata": {
            "tags": []
          },
          "execution_count": 19
        }
      ]
    },
    {
      "cell_type": "code",
      "metadata": {
        "id": "RWrtS9Waa8Fq",
        "colab": {
          "base_uri": "https://localhost:8080/"
        },
        "outputId": "333f55b9-71fe-47a5-a943-36f9b329758c"
      },
      "source": [
        "# eigen_value\n",
        "pca.explained_variance_"
      ],
      "execution_count": null,
      "outputs": [
        {
          "output_type": "execute_result",
          "data": {
            "text/plain": [
              "array([2.93808505, 0.9201649 , 0.14774182, 0.02085386])"
            ]
          },
          "metadata": {
            "tags": []
          },
          "execution_count": 20
        }
      ]
    },
    {
      "cell_type": "code",
      "metadata": {
        "id": "UNFK7pO2a8Fs",
        "colab": {
          "base_uri": "https://localhost:8080/"
        },
        "outputId": "9030bf16-f4f2-470e-d98b-d9650d5f0970"
      },
      "source": [
        "# explained variance ratio\n",
        "pca.explained_variance_ratio_"
      ],
      "execution_count": null,
      "outputs": [
        {
          "output_type": "execute_result",
          "data": {
            "text/plain": [
              "array([0.72962445, 0.22850762, 0.03668922, 0.00517871])"
            ]
          },
          "metadata": {
            "tags": []
          },
          "execution_count": 21
        }
      ]
    },
    {
      "cell_type": "code",
      "metadata": {
        "id": "VBqqze3aa8Fu",
        "colab": {
          "base_uri": "https://localhost:8080/",
          "height": 279
        },
        "outputId": "f8574c69-6a73-410e-e00e-e292d9507cbb"
      },
      "source": [
        "features = range(pca.n_components_)\n",
        "plt.bar(features, pca.explained_variance_)\n",
        "plt.xlabel('PCA feature')\n",
        "plt.ylabel('variance')\n",
        "plt.xticks(features)\n",
        "plt.show()"
      ],
      "execution_count": null,
      "outputs": [
        {
          "output_type": "display_data",
          "data": {
            "image/png": "[encoded data removed]",
            "text/plain": [
              "<Figure size 432x288 with 1 Axes>"
            ]
          },
          "metadata": {
            "tags": []
          }
        }
      ]
    },
    {
      "cell_type": "code",
      "metadata": {
        "id": "59oyYBJFa8Fx",
        "colab": {
          "base_uri": "https://localhost:8080/",
          "height": 279
        },
        "outputId": "5017fb17-9c2e-4271-ea73-b933431b9bd7"
      },
      "source": [
        "features = range(pca.n_components_)\n",
        "plt.bar(features, pca.explained_variance_ratio_)\n",
        "plt.xlabel('PCA feature')\n",
        "plt.ylabel('explained variance ratio')\n",
        "plt.xticks(features)\n",
        "plt.show()"
      ],
      "execution_count": null,
      "outputs": [
        {
          "output_type": "display_data",
          "data": {
            "image/png": "[encoded data removed]",
            "text/plain": [
              "<Figure size 432x288 with 1 Axes>"
            ]
          },
          "metadata": {
            "tags": []
          }
        }
      ]
    },
    {
      "cell_type": "markdown",
      "metadata": {
        "id": "JkuOswhwa8F5"
      },
      "source": [
        "# 몇 차원으로 줄일 것인가?"
      ]
    },
    {
      "cell_type": "code",
      "metadata": {
        "id": "TwowsCNda8F6",
        "colab": {
          "base_uri": "https://localhost:8080/"
        },
        "outputId": "9d4b647b-72b2-48fb-99d9-d0d630c6179a"
      },
      "source": [
        "cumsum = np.cumsum(pca.explained_variance_ratio_)\n",
        "cumsum"
      ],
      "execution_count": null,
      "outputs": [
        {
          "output_type": "execute_result",
          "data": {
            "text/plain": [
              "array([0.72962445, 0.95813207, 0.99482129, 1.        ])"
            ]
          },
          "metadata": {
            "tags": []
          },
          "execution_count": 24
        }
      ]
    },
    {
      "cell_type": "markdown",
      "metadata": {
        "id": "Ow1m_ZZga8F8"
      },
      "source": [
        "pca.explained_variance_ratio_ 값으로 적절한 차원 선택\n",
        "\n",
        "선택차원 | 설명력\n",
        "--- | ----\n",
        "1 | 72.96%\n",
        "2 | 95.81%\n",
        "3 | 99.48%\n",
        "4 | 100.0%\n"
      ]
    },
    {
      "cell_type": "markdown",
      "metadata": {
        "id": "sd7HSOMxu3CZ"
      },
      "source": [
        "\n",
        "**2019-2021 FinanceData.KR http://facebook.com/financedata**"
      ]
    }
  ]
}