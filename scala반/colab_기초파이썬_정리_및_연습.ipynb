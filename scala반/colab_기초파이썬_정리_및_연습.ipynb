{
  "nbformat": 4,
  "nbformat_minor": 0,
  "metadata": {
    "colab": {
      "name": "colab_기초파이썬 정리 및 연습.ipynb",
      "provenance": [],
      "collapsed_sections": [],
      "toc_visible": true,
      "authorship_tag": "ABX9TyPtAX9WkbZGzmS3KgR13L+r",
      "include_colab_link": true
    },
    "kernelspec": {
      "name": "python3",
      "display_name": "Python 3"
    }
  },
  "cells": [
    {
      "cell_type": "markdown",
      "metadata": {
        "id": "view-in-github",
        "colab_type": "text"
      },
      "source": [
        "<a href=\"https://colab.research.google.com/github/Eunjung-Cho/Donduk-Ai-Learning-Crew/blob/main/colab_%EA%B8%B0%EC%B4%88%ED%8C%8C%EC%9D%B4%EC%8D%AC_%EC%A0%95%EB%A6%AC_%EB%B0%8F_%EC%97%B0%EC%8A%B5.ipynb\" target=\"_parent\"><img src=\"https://colab.research.google.com/assets/colab-badge.svg\" alt=\"Open In Colab\"/></a>"
      ]
    },
    {
      "cell_type": "markdown",
      "metadata": {
        "id": "glR-kJufXBCd"
      },
      "source": [
        ""
      ]
    },
    {
      "cell_type": "markdown",
      "metadata": {
        "id": "8QpQQ7n3VwBE"
      },
      "source": [
        "# Colabatory\r\n",
        "\r\n",
        "1. 코랩 하드웨어 사양: (오른쪽 상단에 마우스 조금 기다리고 있으면 나옴)\r\n",
        "- 플랫폼 :  \r\n",
        "import platform\r\n",
        "platform.platform()\r\n",
        "\r\n",
        "- os 환경:  \r\n",
        "!cat /etc/issue.net\r\n",
        "\r\n",
        "- CPU 사양 :  \r\n",
        "!cat /proc/cpuinfo\r\n",
        "\r\n",
        "\r\n",
        "- 메모리 사양:  \r\n",
        "!cat /proc/meminfo\r\n",
        "\r\n",
        "- GPU 사양:(런타임 유형변경-GPU하고난후 가능)  \r\n",
        "!nvidia-smi \r\n",
        "\r\n",
        "- 파이썬 버전 확인:  \r\n",
        "!python --version\r\n",
        "\r\n",
        "[딥러닝 cpu와 gpu비교](/notebooks/gpu.ipynb)"
      ]
    },
    {
      "cell_type": "markdown",
      "metadata": {
        "id": "uQO2V9euW7sf"
      },
      "source": [
        "# Colab 단축키\r\n",
        "\r\n",
        "**선택된 셀을 실행 : Ctrl + Enter**  \r\n",
        "선택된 셀을 실행 후 다음 셀로 포커스 이동 : Shift + Enter  \r\n",
        "실행 후 다음줄로 이동 : Alt + Enter  \r\n",
        "선택모드에서 화살표 방향키 : 셀 포커스를 위 아래로 움직일 수 있음  \r\n",
        "\r\n",
        "엔터키 : 편집모드(Vi 편집기와 유사)\r\n",
        "ESC : 선택모드(Vi 편집기와 유사)  \r\n",
        "**마크다운으로 전환 : Ctrl + M M**  \r\n",
        "코드로 전환 : Ctrl + M Y  \r\n",
        "**저장 : Ctrl + S**\r\n",
        "\r\n",
        "코드셀에 줄번호 부여 : Ctrl + M L  \r\n",
        "**바로 윗줄에 셀 생성 : Ctrl + M A 또는 ESC + A**  \r\n",
        "**바로 아랫줄에 셀 생성 : Ctrl + M B 또는 ESC + B**  \r\n",
        "**셀 삭제 : Ctrl + M D**\r\n",
        "\r\n",
        "셀 병합 : (shift를 누른 상태에서 병합을 원하는 셀들을 한번에 다중 선택 후), Shift + M  \r\n",
        "셀 분할 : (분기를 원하는 부분에 커서를 지정 후), Ctrl + Shift + -  \r\n",
        "\r\n",
        "**코드가 오래 실행되어 멈추고 싶은경우 : Ctrl+ M + I**  \r\n",
        "위 코드로도 멈추지 않고 작업을 완전종료하고 싶은 경우 : Ctrl+M+.  \r\n"
      ]
    },
    {
      "cell_type": "markdown",
      "metadata": {
        "id": "EToCtzoOiZge"
      },
      "source": [
        "# Colab 마크다운 이란? \r\n",
        "\r\n",
        "- 문서 작성을 지원하는 태그(Tag) 형식의 문법\r\n",
        "- README 파일이나 온라인 문서, 혹은 일반 텍스트 편집기로 문서 양식을 편집할 때 쓰인다. 마크다운을 이용해 작성된 문서는 쉽게 HTML 등 다른 문서형태로 변환이 가능하다.\r\n",
        "\r\n",
        "- 배우기가 정말 쉽고 직관적이다.\r\n",
        "- Text로 저장 후 HTML으로의 변환이 가능하다.\r\n",
        "- 변환을 지원하는 도구나 Eco(생태계)가 매우 많다.\r\n",
        "- Text로 저장하기 때문에 Git을 통한 버전관리가 가능하고, 용량이 적어 보관이 용이하다.\r\n",
        "- Python의 Jupyter Notebook, R의 R Markdown 등 다른 기술을 익히는데 있어 훌륭한 커뮤니케이션 도구로써 가치가 있다."
      ]
    },
    {
      "cell_type": "markdown",
      "metadata": {
        "id": "Ap0jn4QUTVPr"
      },
      "source": [
        "## Colab 마크다운_헤더 : 제목, 문단별 제목을 쓰고 싶을 때\r\n",
        "\r\n",
        "# 제목 1단계\r\n",
        "## 제목 2단계  \r\n",
        "### 제목 3단계\r\n",
        "#### 제목 4단계\r\n",
        "##### 제목 5단계\r\n",
        "###### 제목 6단계 "
      ]
    },
    {
      "cell_type": "markdown",
      "metadata": {
        "id": "np21WJYYTVc3"
      },
      "source": [
        "## Colab 마크다운_수평선 과 엔터키\r\n",
        "\r\n",
        "---\r\n",
        "\r\n",
        "줄바꿈:space 두번+Enter 또는 < > 안에 /br  \r\n",
        "안녕하세요</br>안녕하세요  \r\n",
        "줄을 이렇게 바꾸고 싶다면 마지막 글자 뒤에  \r\n",
        "스페이스를 두번 하고 엔터를 하면된다.\r\n"
      ]
    },
    {
      "cell_type": "markdown",
      "metadata": {
        "id": "krMjEBZ9StT0"
      },
      "source": [
        "## Colab 마크다운_목록(list) : 요소를 나열할때\r\n",
        "\r\n",
        "1. 첫번째\r\n",
        "1. 두번째\r\n",
        "1. 세번째\r\n",
        "\r\n",
        "1. 첫번째\r\n",
        "2. 두번째\r\n",
        "3. 세번째\r\n",
        "\r\n",
        "+ 순서는 없다.\r\n",
        "  - 탭을 한번 눌러서 구분\r\n",
        "    * 별표시도 가능\r\n",
        "        + 탭에따라 다르다"
      ]
    },
    {
      "cell_type": "markdown",
      "metadata": {
        "id": "trkJ6iu1bip-"
      },
      "source": [
        "## Colab 마크다운_ 단어 강조하기\r\n",
        "\r\n",
        "__볼드(진하게)__  \r\n",
        "_이탤릭체(기울여서)_    \r\n",
        "~~취소선~~  \r\n",
        "<u>밑줄</u>  \r\n",
        "__볼드로 진하게 만들다가*이탤릭으로 기울이고*다시 볼드로__(중복 활용도 가능하다.)"
      ]
    },
    {
      "cell_type": "markdown",
      "metadata": {
        "id": "cE3QTUg_cP5z"
      },
      "source": [
        "## Colab 마크다운_인용구:인용할 경우 또는 분위기 전환시에도 사용(중복 형태 가능)\r\n",
        "\r\n",
        "> 오류해결하다가 뇌가 멈추면 드는생각\r\n",
        ">> 아무생각이 없지만\r\n",
        ">>> \"더 격하게 아무생각없이 살고싶다.\""
      ]
    },
    {
      "cell_type": "markdown",
      "metadata": {
        "id": "w2vMND9uckPq"
      },
      "source": [
        "## Colab 마크다운_링크: 클릭하면 링크로 연결\r\n",
        "\r\n",
        "유형1(`설명어`를 클릭하면 URL로 이동) : [DALC 노션](https://www.notion.so/Dongduk-AI-Leraning-Crew-e0525781c75345bf944c01119270a9e6 \"마우스를 올려놓으면 말풍선이 나옵니다.\")  \r\n",
        "\r\n",
        "유형2(URL 보여주고 `자동연결`) : <https://www.notion.so/Dongduk-AI-Leraning-Crew-e0525781c75345bf944c01119270a9e6>  "
      ]
    },
    {
      "cell_type": "markdown",
      "metadata": {
        "id": "09XX-15HmFpA"
      },
      "source": [
        "# Colab 마크다운_Latex 문법 (수학공식 작성하기)\r\n",
        "[참고할만한 LATEX 문법](https://ko.wikipedia.org/wiki/%EC%9C%84%ED%82%A4%EB%B0%B1%EA%B3%BC:TeX_%EB%AC%B8%EB%B2%95)\r\n",
        "\r\n",
        "\r\n",
        "- R에서 쓰는 마크다운(rmd)과 똑같다. Latex 문법\r\n",
        "- (수리통계과제보면서 필요한 부분 추가 / 참고할만한 링크 추가)\r\n",
        "$y=x^2$\r\n",
        " \r\n",
        "$e^{i\\pi} + 1 = 0$\r\n",
        " \r\n",
        "$e^x=\\sum_{i=0}^\\infty \\frac{1}{i!}x^i$\r\n",
        " \r\n",
        "$\\frac{n!}{k!(n-k)!} = {n \\choose k}$\r\n",
        " \r\n",
        "$A_{m,n} =\r\n",
        " \\begin{pmatrix}\r\n",
        "  a_{1,1} & a_{1,2} & \\cdots & a_{1,n} \\\\\r\n",
        "  a_{2,1} & a_{2,2} & \\cdots & a_{2,n} \\\\\r\n",
        "  \\vdots  & \\vdots  & \\ddots & \\vdots  \\\\\r\n",
        "  a_{m,1} & a_{m,2} & \\cdots & a_{m,n}\r\n",
        " \\end{pmatrix}$  \r\n",
        "\r\n",
        "\r\n",
        "\r\n",
        "f(n) = \r\n",
        "\\begin{cases}\r\n",
        "n/2, & \\mbox{if }n\\mbox{ is even} \\\\\r\n",
        "3n+1, & \\mbox{if }n\\mbox{ is odd}\r\n",
        "\\end{cases}"
      ]
    },
    {
      "cell_type": "markdown",
      "metadata": {
        "id": "1DTHiiRKe84i"
      },
      "source": [
        ""
      ]
    },
    {
      "cell_type": "markdown",
      "metadata": {
        "id": "b93RjmY-eyvZ"
      },
      "source": [
        "## Colab 마크다운_테이블(표) 만들기\r\n",
        "\r\n",
        "First column name  | Second column name \r\n",
        "-------------------|------------------\r\n",
        "Row 1, Col 1       | Row 1, Col 2 \r\n",
        "Row 2, Col 1       | Row 2, Col 2 "
      ]
    },
    {
      "cell_type": "markdown",
      "metadata": {
        "id": "ue5YsLLmfGBL"
      },
      "source": [
        "## Colab 마크다운_파이썬 코드블럭\r\n",
        "\r\n",
        "```python\r\n",
        "print(\"a\")\r\n",
        "```"
      ]
    },
    {
      "cell_type": "markdown",
      "metadata": {
        "id": "-_w8FKjikNjZ"
      },
      "source": [
        "# 파일 불러오기"
      ]
    },
    {
      "cell_type": "markdown",
      "metadata": {
        "id": "V5Q0u7eskTL2"
      },
      "source": [
        "## 구글 드라이브와 연동하여 파일 업로드"
      ]
    },
    {
      "cell_type": "markdown",
      "metadata": {
        "id": "TkZJ1riDkXE0"
      },
      "source": [
        "## 깃헙과 연동하여 파일 업로드"
      ]
    },
    {
      "cell_type": "markdown",
      "metadata": {
        "id": "Pz3KANtakZZQ"
      },
      "source": [
        "## 로컬(내 개인 PC의 저장공간)과 연동하여 파일 업로드"
      ]
    },
    {
      "cell_type": "markdown",
      "metadata": {
        "id": "EMWipED5mhnJ"
      },
      "source": [
        "# 기타 잡지식"
      ]
    },
    {
      "cell_type": "markdown",
      "metadata": {
        "id": "OmOH2FIXgVaV"
      },
      "source": [
        "## 코드로 움직이는 글씨"
      ]
    },
    {
      "cell_type": "code",
      "metadata": {
        "id": "duMELMlgf3q_",
        "colab": {
          "base_uri": "https://localhost:8080/",
          "height": 36
        },
        "outputId": "94c193b3-4660-4c92-a44e-1f7448cb8118"
      },
      "source": [
        "%%html\r\n",
        "<marquee style='width: 30%; color: Orange;'><b>DALC!</b></marquee>"
      ],
      "execution_count": null,
      "outputs": [
        {
          "output_type": "display_data",
          "data": {
            "text/html": [
              "<marquee style='width: 30%; color: Orange;'><b>DALC!</b></marquee>"
            ],
            "text/plain": [
              "<IPython.core.display.HTML object>"
            ]
          },
          "metadata": {
            "tags": []
          }
        }
      ]
    },
    {
      "cell_type": "markdown",
      "metadata": {
        "id": "pkEnL7nxelMT"
      },
      "source": [
        "\r\n",
        "## 머신러닝 예시\r\n",
        "\r\n",
        "Colaboratory 덕분에 가능해진 대화형 머신러닝 분석의 예시를 자세히 살펴보려면 <a href=\"https://tfhub.dev\">TensorFlow Hub</a>의 모델을 사용한 이 튜토리얼을 살펴보세요.\r\n",
        "\r\n",
        "일부 추천 예시는 다음과 같습니다.\r\n",
        "\r\n",
        "- <a href=\"https://tensorflow.org/hub/tutorials/tf2_image_retraining\">이미지 분류기 재훈련</a>: 사전에 훈련된 이미지 분류기를 기반으로 꽃을 분류하기 위한 Keras 모델을 구축합니다.\r\n",
        "- <a href=\"https://tensorflow.org/hub/tutorials/tf2_text_classification\">텍스트 분류</a>: IMDB 영화 리뷰를 <em>긍정적인 리뷰</em> 또는 <em>부정적인 리뷰</em>로 분류합니다.\r\n",
        "- <a href=\"https://tensorflow.org/hub/tutorials/tf2_arbitrary_image_stylization\">스타일 트랜스퍼</a>: 딥 러닝을 사용하여 이미지 간에 스타일을 전이시킵니다.\r\n",
        "- <a href=\"https://tensorflow.org/hub/tutorials/retrieval_with_tf_hub_universal_encoder_qa\">Multilingual Universal Sentence Encoder Q&amp;A</a>: 머신러닝 모델을 사용하여 SQuAD 데이터 세트의 질문에 답변합니다.\r\n",
        "- <a href=\"https://tensorflow.org/hub/tutorials/tweening_conv3d\">동영상 보간 유형</a>: 동영상에서 첫 프레임과 마지막 프레임 사이에 발생한 내용을 예측합니다.\r\n"
      ]
    },
    {
      "cell_type": "markdown",
      "metadata": {
        "id": "g7UUB3zSY8rq"
      },
      "source": [
        ""
      ]
    }
  ]
}
